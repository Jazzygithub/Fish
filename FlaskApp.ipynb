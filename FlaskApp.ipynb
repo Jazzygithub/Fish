{
 "cells": [
  {
   "cell_type": "code",
   "execution_count": 1,
   "id": "4d027b8b",
   "metadata": {},
   "outputs": [],
   "source": [
    "import numpy as np\n",
    "import pickle\n",
    "import pandas as pd\n",
    "from flask import Flask, request"
   ]
  },
  {
   "cell_type": "code",
   "execution_count": 2,
   "id": "9d702060",
   "metadata": {},
   "outputs": [
    {
     "name": "stderr",
     "output_type": "stream",
     "text": [
      "C:\\Users\\tozie\\anaconda3\\lib\\site-packages\\sklearn\\base.py:310: UserWarning: Trying to unpickle estimator DecisionTreeClassifier from version 1.0.2 when using version 0.24.2. This might lead to breaking code or invalid results. Use at your own risk.\n",
      "  warnings.warn(\n",
      "C:\\Users\\tozie\\anaconda3\\lib\\site-packages\\sklearn\\base.py:310: UserWarning: Trying to unpickle estimator RandomForestClassifier from version 1.0.2 when using version 0.24.2. This might lead to breaking code or invalid results. Use at your own risk.\n",
      "  warnings.warn(\n"
     ]
    }
   ],
   "source": [
    "app=Flask(__name__)\n",
    "pickle_in = open(\"Fishclassifier.pkl\",\"rb\")\n",
    "classifier=pickle.load(pickle_in)"
   ]
  },
  {
   "cell_type": "code",
   "execution_count": 3,
   "id": "3f0bf45f",
   "metadata": {},
   "outputs": [],
   "source": [
    "@app.route('/')\n",
    "#def hello():\n",
    "#    return \"This is a APP Creation Test\"\n",
    "def home():\n",
    "    return render_template('index.html')"
   ]
  },
  {
   "cell_type": "code",
   "execution_count": null,
   "id": "a61bfef8",
   "metadata": {},
   "outputs": [],
   "source": [
    "@app.route('/predict',methods=['POST'])\n",
    "def predict():\n",
    "    '''\n",
    "    For rendering results on HTML GUI\n",
    "    '''\n",
    "    int_features = [x for x in request.form.values()]\n",
    "    final_features = [np.array(int_features)]\n",
    "    prediction = classifier.predict(final_features)\n",
    "\n",
    "    \n",
    "    return render_template('index.html', prediction_text='The Fish belong to species {}'.format(prediction))"
   ]
  },
  {
   "cell_type": "code",
   "execution_count": 4,
   "id": "ea6b8a3a",
   "metadata": {},
   "outputs": [],
   "source": [
    "#@app.route('/predict')\n",
    "#def predict_class():\n",
    "#    Weight=request.args.get('Weight')\n",
    "#    Length1=request.args.get('Length1')\n",
    "#    Length2=request.args.get('Length2')\n",
    "#    Length3=request.args.get('Length3')\n",
    "#    Height=request.args.get('Height')\n",
    "#    Width=request.args.get('Width')\n",
    "    \n",
    "#    prediction=classifier.predict([[Weight,Length1,Length2,Length3,Height,Width]])\n",
    "#    return \" The Predicated Class is\"+ str(prediction)"
   ]
  },
  {
   "cell_type": "code",
   "execution_count": 5,
   "id": "e6f320f7",
   "metadata": {},
   "outputs": [
    {
     "name": "stdout",
     "output_type": "stream",
     "text": [
      " * Serving Flask app \"__main__\" (lazy loading)\n",
      " * Environment: production\n",
      "\u001b[31m   WARNING: This is a development server. Do not use it in a production deployment.\u001b[0m\n",
      "\u001b[2m   Use a production WSGI server instead.\u001b[0m\n",
      " * Debug mode: off\n"
     ]
    },
    {
     "name": "stderr",
     "output_type": "stream",
     "text": [
      " * Running on http://127.0.0.1:5000/ (Press CTRL+C to quit)\n",
      "127.0.0.1 - - [12/Mar/2022 17:10:45] \"GET / HTTP/1.1\" 200 -\n",
      "127.0.0.1 - - [12/Mar/2022 17:11:25] \"GET /predict?Weight=242&Length1=23.2&Length2=25.4&Length3=30&Height=11.52&Width=4.02 HTTP/1.1\" 200 -\n"
     ]
    }
   ],
   "source": [
    "if __name__=='__main__':\n",
    "    app.run()                 "
   ]
  },
  {
   "cell_type": "code",
   "execution_count": null,
   "id": "a1e82805",
   "metadata": {},
   "outputs": [],
   "source": []
  }
 ],
 "metadata": {
  "kernelspec": {
   "display_name": "Python 3 (ipykernel)",
   "language": "python",
   "name": "python3"
  },
  "language_info": {
   "codemirror_mode": {
    "name": "ipython",
    "version": 3
   },
   "file_extension": ".py",
   "mimetype": "text/x-python",
   "name": "python",
   "nbconvert_exporter": "python",
   "pygments_lexer": "ipython3",
   "version": "3.9.7"
  }
 },
 "nbformat": 4,
 "nbformat_minor": 5
}
